{
 "cells": [
  {
   "cell_type": "code",
   "execution_count": 1,
   "metadata": {
    "collapsed": true
   },
   "outputs": [],
   "source": [
    "answers_original_file = 'results/answers_original.txt'\n",
    "answersA_file = 'results/author-masking-participantA-2016-05-24-04-49-53/answers.txt'\n",
    "answersB_file = 'results/author-masking-participantB-2016-05-24-16-57-58/answers.txt'\n",
    "answersC_file = 'results/author-masking-participantC-2016-06-02-11-02-18/answers.txt'"
   ]
  },
  {
   "cell_type": "code",
   "execution_count": 21,
   "metadata": {
    "collapsed": false
   },
   "outputs": [],
   "source": [
    "def load_answers(answers):\n",
    "    with open(answers) as f:\n",
    "        lines = f.readlines()\n",
    "    answers_dict = {}\n",
    "    for line in lines:\n",
    "        parts = line.split()\n",
    "        label = 0.5\n",
    "        if float(parts[1]) > 0.5:\n",
    "            label = 1\n",
    "        if float(parts[1]) < 0.5:\n",
    "            label = 0\n",
    "        answers_dict[int(parts[0][8:])] = label\n",
    "    return answers_dict"
   ]
  },
  {
   "cell_type": "code",
   "execution_count": 22,
   "metadata": {
    "collapsed": false
   },
   "outputs": [],
   "source": [
    "answers_original = load_answers(answers_original_file)\n",
    "answersA = load_answers(answersA_file)\n",
    "answersb = load_answers(answersB_file)\n",
    "answersC = load_answers(answersC_file)"
   ]
  },
  {
   "cell_type": "code",
   "execution_count": 23,
   "metadata": {
    "collapsed": false
   },
   "outputs": [],
   "source": [
    "import matplotlib.pyplot as plt\n",
    "plt.scatter(answers_original.keys(), answers_original.values(), color='blue', alpha=0.5)\n",
    "plt.scatter(answersA.keys(), answersA.values(), color='red', alpha=0.5)\n",
    "plt.show()"
   ]
  },
  {
   "cell_type": "code",
   "execution_count": null,
   "metadata": {
    "collapsed": true
   },
   "outputs": [],
   "source": []
  }
 ],
 "metadata": {
  "kernelspec": {
   "display_name": "Python 2",
   "language": "python",
   "name": "python2"
  },
  "language_info": {
   "codemirror_mode": {
    "name": "ipython",
    "version": 2
   },
   "file_extension": ".py",
   "mimetype": "text/x-python",
   "name": "python",
   "nbconvert_exporter": "python",
   "pygments_lexer": "ipython2",
   "version": "2.7.10"
  }
 },
 "nbformat": 4,
 "nbformat_minor": 0
}
